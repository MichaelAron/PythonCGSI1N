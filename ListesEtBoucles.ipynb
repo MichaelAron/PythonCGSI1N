{
 "cells": [
  {
   "cell_type": "markdown",
   "metadata": {
    "deletable": true,
    "editable": true
   },
   "source": [
    "## Exercice 1\n",
    "\n",
    "Soit une liste nombres = [1, 3, 8, 2, 1, 4, 6, 4, 1, 4, 10, 7]\n",
    "\n",
    "Ecrire un script qui calcule le nombre de 1 et le nombre de 4 dans la liste nombres."
   ]
  },
  {
   "cell_type": "code",
   "execution_count": 1,
   "metadata": {
    "collapsed": false,
    "deletable": true,
    "editable": true
   },
   "outputs": [ ],
   "source": [
    "nombres = [1,3,8,2,1,4,6,4,1,4,10,7]\n",
    "## Ecrire ici votre code source\n",
   ]
  },
  {
   "cell_type": "markdown",
   "metadata": {
    "deletable": true,
    "editable": true
   },
   "source": [
    "## Exercice 2\n",
    "\n",
    "Soit une liste nombres = [1, 3, 8, 2, 1, 4, 6, 4, 1, 4]\n",
    "\n",
    "Ecrire un script qui ajoute 2 à chaque élément de la liste nombres"
   ]
  },
  {
   "cell_type": "code",
   "execution_count": 10,
   "metadata": {
    "collapsed": true,
    "deletable": true,
    "editable": true
   },
   "outputs": [],
   "source": [
    "nombres = [1,3,8,2,1,4,6,4,1,4]\n",
    "## Ecrire ici votre code source"
   ]
  },
  {
   "cell_type": "markdown",
   "metadata": {
    "deletable": true,
    "editable": true
   },
   "source": [
    "## Exercice 3\n",
    "Soit une liste nombres = [1, 3, 8, 2, 1, 4, 6, 4, 1, 4]\n",
    "A partir de la liste nombres, créer une liste qui ne garde que les nombres inférieurs ou égaux à 5."
   ]
  },
  {
   "cell_type": "code",
   "execution_count": null,
   "metadata": {
    "collapsed": true,
    "deletable": true,
    "editable": true
   },
   "outputs": [],
   "source": []
  },
  {
   "cell_type": "markdown",
   "metadata": {
    "deletable": true,
    "editable": true
   },
   "source": [
    "## Exercice 4\n",
    "Soit une liste nombres = [1, 3, 8, 2, 1, 4, 6, 4, 1, 4]\n",
    "Ecrire un script qui crée une nouvelle liste où chaque élément est l’addition de l’élément avec\n",
    "l’élément précédent (sauf pour le premier élément qui ne change pas)\n",
    "Dans notre cas, le résultat est [1, 4, 11, 10, 3, 5, 10, 10, 5, 5]"
   ]
  },
  {
   "cell_type": "code",
   "execution_count": null,
   "metadata": {
    "collapsed": true,
    "deletable": true,
    "editable": true
   },
   "outputs": [],
   "source": []
  },
  {
   "cell_type": "markdown",
   "metadata": {
    "deletable": true,
    "editable": true
   },
   "source": [
    "## Exercice 5\n",
    "Soit une liste nombres = [1, 3, 2, 1, 4, 8, 6, 4, 1, 4]\n",
    "Ecrire un script qui copie la liste nombres tant que le nombre lu dans la liste est inférieur à 5."
   ]
  },
  {
   "cell_type": "code",
   "execution_count": null,
   "metadata": {
    "collapsed": true,
    "deletable": true,
    "editable": true
   },
   "outputs": [],
   "source": []
  },
  {
   "cell_type": "markdown",
   "metadata": {
    "deletable": true,
    "editable": true
   },
   "source": [
    "## Exercice 6\n",
    "Soit une liste nombres = [1, 3, 2, 1, 4, 8, 6, 4, 1, 4]\n",
    "Ecrire un script qui crée une nouvelle liste et qui ne garde que les nombres supérieurs ou égaux à 4."
   ]
  },
  {
   "cell_type": "code",
   "execution_count": null,
   "metadata": {
    "collapsed": true,
    "deletable": true,
    "editable": true
   },
   "outputs": [],
   "source": []
  },
  {
   "cell_type": "markdown",
   "metadata": {
    "deletable": true,
    "editable": true
   },
   "source": [
    "## Exercice 7\n",
    "Soit une liste nombres = [1, 31, 212, 1111, 434, 8, 126, 54, 41, 44]\n",
    "Ecrire un script qui crée une liste où chaque élément est la somme de chaque élément de la liste\n",
    "nombres.\n",
    "Dans notre cas, le résultat est [1, 4, 5, 4, 11, 8, 9, 9, 5, 8]"
   ]
  },
  {
   "cell_type": "code",
   "execution_count": null,
   "metadata": {
    "collapsed": true,
    "deletable": true,
    "editable": true
   },
   "outputs": [],
   "source": []
  },
  {
   "cell_type": "markdown",
   "metadata": {
    "deletable": true,
    "editable": true
   },
   "source": [
    "## Exercice 8\n",
    "Ecrire un script qui crée une liste de tous les nombres pairs jusqu’à 10 0000."
   ]
  },
  {
   "cell_type": "code",
   "execution_count": null,
   "metadata": {
    "collapsed": true,
    "deletable": true,
    "editable": true
   },
   "outputs": [],
   "source": []
  },
  {
   "cell_type": "markdown",
   "metadata": {
    "deletable": true,
    "editable": true
   },
   "source": [
    "## Exercice 9\n",
    "Ecrire un script qui crée une liste avec tous les éléments inversés [5, 8, 10] -> [10, 8, 5]"
   ]
  },
  {
   "cell_type": "code",
   "execution_count": null,
   "metadata": {
    "collapsed": true,
    "deletable": true,
    "editable": true
   },
   "outputs": [],
   "source": []
  },
  {
   "cell_type": "markdown",
   "metadata": {
    "deletable": true,
    "editable": true
   },
   "source": [
    "## Exercice 10\n",
    "Ecrire un script qui crée une liste qui comprend tous les impairs négatifs de -1 à -150 comme suit [-1,\n",
    "-3, -5, -7, -9, ..., -149]"
   ]
  },
  {
   "cell_type": "code",
   "execution_count": null,
   "metadata": {
    "collapsed": true,
    "deletable": true,
    "editable": true
   },
   "outputs": [],
   "source": []
  },
  {
   "cell_type": "markdown",
   "metadata": {
    "deletable": true,
    "editable": true
   },
   "source": [
    "## Exercice 11\n",
    "A partir de la liste créée à la question 10, créer une liste avec les 10 premiers éléments et les 20\n",
    "derniers éléments"
   ]
  },
  {
   "cell_type": "code",
   "execution_count": null,
   "metadata": {
    "collapsed": true,
    "deletable": true,
    "editable": true
   },
   "outputs": [],
   "source": []
  },
  {
   "cell_type": "markdown",
   "metadata": {
    "deletable": true,
    "editable": true
   },
   "source": [
    "## Exercice 12\n",
    "Ecrire un script qui à partir d’une liste qui contient des chaînes de caractères, crée une liste où\n",
    "chaque élément est la longueur de chaque chaîne de caractères\n",
    "Exemple : [‘azerty’, ‘eleve’, ‘rene’, ‘python’] -> retourne [6,5,4,6]"
   ]
  },
  {
   "cell_type": "code",
   "execution_count": null,
   "metadata": {
    "collapsed": true,
    "deletable": true,
    "editable": true
   },
   "outputs": [],
   "source": []
  },
  {
   "cell_type": "markdown",
   "metadata": {
    "deletable": true,
    "editable": true
   },
   "source": [
    "## Exercice 13\n",
    "Ecrire un script qui à partir d’une liste qui contient des chaînes de caractères, crée une liste où\n",
    "chaque élément est le nombre de ‘e’ dans chaque chaîne de caractères\n",
    "Exemple : [‘azerty’, ‘eleve’, ‘rene’, ‘python’] -> retourne [1,3,2,0]"
   ]
  },
  {
   "cell_type": "code",
   "execution_count": null,
   "metadata": {
    "collapsed": true,
    "deletable": true,
    "editable": true
   },
   "outputs": [],
   "source": []
  },
  {
   "cell_type": "markdown",
   "metadata": {
    "deletable": true,
    "editable": true
   },
   "source": [
    "## Exercice 14\n",
    "Soit une liste nombres = [1, 3, 8, 2, 1, 4, 6, 4, 1, 4, 10, 7]\n",
    "Ecrire un script qui crée une liste dont chaque élément est l’image de nombres par le polynôme\n",
    "x^2+X+1\n",
    "Dans notre cas, le résultat est [3, 13, 73, 7, 3, 21, 43, 21, 3, 21, 111, 57]"
   ]
  },
  {
   "cell_type": "code",
   "execution_count": null,
   "metadata": {
    "collapsed": true,
    "deletable": true,
    "editable": true
   },
   "outputs": [],
   "source": []
  },
  {
   "cell_type": "markdown",
   "metadata": {
    "deletable": true,
    "editable": true
   },
   "source": [
    "## Exercice 15\n",
    "Soit une liste nombres = [1, 3, 8, 2, 1, 4, 6, 4, 1, 4, 10, 7]\n",
    "Ecrire un script pour créer une nouvelle liste en intégrant le chiffre ‘7’ à la position 7."
   ]
  },
  {
   "cell_type": "code",
   "execution_count": null,
   "metadata": {
    "collapsed": true,
    "deletable": true,
    "editable": true
   },
   "outputs": [],
   "source": []
  },
  {
   "cell_type": "markdown",
   "metadata": {
    "deletable": true,
    "editable": true
   },
   "source": [
    "## Exercice 16\n",
    "Soit une liste nombres = [1, 3, 8, 2, 1, 4, 6, 4, 1, 4, 10, 7]\n",
    "Ecrire un script qui change chaque élément entier dans la liste nombres en chaine de caractères"
   ]
  },
  {
   "cell_type": "code",
   "execution_count": null,
   "metadata": {
    "collapsed": true,
    "deletable": true,
    "editable": true
   },
   "outputs": [],
   "source": []
  },
  {
   "cell_type": "markdown",
   "metadata": {
    "deletable": true,
    "editable": true
   },
   "source": [
    "## Exercice 17\n",
    "Soit une liste nombres = [1, 3, 8, 2, 1, 4, 6, 4, 1, 4, 10, 7]\n",
    "Ecrire un script qui change chaque élément entier dans la liste nombres en chaine de caractères"
   ]
  },
  {
   "cell_type": "code",
   "execution_count": null,
   "metadata": {
    "collapsed": true,
    "deletable": true,
    "editable": true
   },
   "outputs": [],
   "source": []
  },
  {
   "cell_type": "markdown",
   "metadata": {
    "deletable": true,
    "editable": true
   },
   "source": [
    "## Exercice 18\n",
    "\n",
    "Soit une liste mots = [‘azerty’, ‘eleve’, ‘rene’, ‘python’]\n",
    "Créer une nouvelle liste à partir de la liste mots en ajoutant les lettres ‘ABC’ à la fin de chaque mot."
   ]
  },
  {
   "cell_type": "code",
   "execution_count": null,
   "metadata": {
    "collapsed": true,
    "deletable": true,
    "editable": true
   },
   "outputs": [],
   "source": []
  },
  {
   "cell_type": "markdown",
   "metadata": {
    "deletable": true,
    "editable": true
   },
   "source": [
    "## Exercice 19\n",
    "Soit une liste mots = [‘azerty’, ‘eleve’, ‘rene’, ‘python’, ‘abc’, ‘loulou’, ‘riri’, ‘fifi’]\n",
    "Ecrire un script qui copie la liste mots tant que ‘abc’ n’est pas dans la liste ;\n",
    "Exemple : dans noter cas, le résultat est [‘azerty’, ‘eleve’, ‘rene’, ‘python’]"
   ]
  },
  {
   "cell_type": "code",
   "execution_count": null,
   "metadata": {
    "collapsed": true,
    "deletable": true,
    "editable": true
   },
   "outputs": [],
   "source": []
  },
  {
   "cell_type": "markdown",
   "metadata": {
    "deletable": true,
    "editable": true
   },
   "source": [
    "## Exercice 20\n",
    "Soit une liste mots = [‘azErty’, ‘ElEvE’, ‘rEnE’, ‘python’, ‘abc’, ‘loulou’, ‘riri’, ‘fifi’]\n",
    "Ecrire un script qui remplace chaque lettre ‘E’ par ‘e’"
   ]
  },
  {
   "cell_type": "code",
   "execution_count": null,
   "metadata": {
    "collapsed": true,
    "deletable": true,
    "editable": true
   },
   "outputs": [],
   "source": []
  },
  {
   "cell_type": "markdown",
   "metadata": {
    "deletable": true,
    "editable": true
   },
   "source": [
    "## Exercice 21\n",
    "Faire rentrer des mots par l’utilisateur et conserver ces mots dans une liste. On arrête quant\n",
    "l’utilisateur rentre le mot ‘fini’"
   ]
  },
  {
   "cell_type": "code",
   "execution_count": null,
   "metadata": {
    "collapsed": true,
    "deletable": true,
    "editable": true
   },
   "outputs": [],
   "source": []
  },
  {
   "cell_type": "markdown",
   "metadata": {
    "deletable": true,
    "editable": true
   },
   "source": [
    "## Exercice 22\n",
    "Faire rentrer des nombres entiers par l’utilisateur. Dans une liste, faire rentrer True si le nombre est\n",
    "inférieur ou égal à 5, et False si le nombre est supérieur à 5. On arrête de renter des nombres quand\n",
    "on rentre 00\n",
    "Donner le nombre de True et de False."
   ]
  },
  {
   "cell_type": "code",
   "execution_count": null,
   "metadata": {
    "collapsed": true,
    "deletable": true,
    "editable": true
   },
   "outputs": [],
   "source": []
  },
  {
   "cell_type": "markdown",
   "metadata": {
    "deletable": true,
    "editable": true
   },
   "source": [
    "## Exercice 23\n",
    "Soit une liste logique = [0,1,1,0,1,0,1,0,0,0,1,1]\n",
    "Ecrire un script qui permet de remplacer 0 par False et 1 par True"
   ]
  },
  {
   "cell_type": "code",
   "execution_count": null,
   "metadata": {
    "collapsed": true,
    "deletable": true,
    "editable": true
   },
   "outputs": [],
   "source": []
  },
  {
   "cell_type": "markdown",
   "metadata": {
    "deletable": true,
    "editable": true
   },
   "source": [
    "## Exercice 24\n",
    "Soit une liste nombres = [1, 3, 8, 2, 1, 4, 6, 4, 1, 4, 10, 7]\n",
    "Ecrire un script qui copie la liste jusqu’à ce que la somme des éléments de la liste soit inférieure à 17.\n",
    "Dans notre exemple, le résultat est [1, 3, 8, 2, 1]"
   ]
  },
  {
   "cell_type": "code",
   "execution_count": null,
   "metadata": {
    "collapsed": true,
    "deletable": true,
    "editable": true
   },
   "outputs": [],
   "source": []
  },
  {
   "cell_type": "markdown",
   "metadata": {
    "deletable": true,
    "editable": true
   },
   "source": [
    "## Exercice 25\n",
    "Soit une liste nombres = [1, 3, 8, 2, 1, 4, 6, 40, 1, 4, 100, 7]\n",
    "Ecrire un script qui écrit dans une liste uniquement les éléments dont la valeur est inférieure ou égale\n",
    "à leur indice.\n",
    "Dans notre exemple le résultat est [2, 1, 4, 6, 1, 4, 7]"
   ]
  },
  {
   "cell_type": "code",
   "execution_count": null,
   "metadata": {
    "collapsed": true,
    "deletable": true,
    "editable": true
   },
   "outputs": [],
   "source": []
  },
  {
   "cell_type": "markdown",
   "metadata": {
    "deletable": true,
    "editable": true
   },
   "source": [
    "## Exercice 26\n",
    "Soit une liste nombres = [1, 3, 8, 2, 1, 4, 6, 40, 1, 4, 100, 7]\n",
    "Ecrire un script qui créer une liste remplie successivement de l’élément de nombres et de l’indice de\n",
    "l’élément\n",
    "Dans notre exemple le résultat [1, 0, 3, 1, 8, 2, 2, 3, 1, 4, 4, 5, 6, 6, 40, 7, 1, 8, 4, 9, 100, 10, 7, 11]"
   ]
  },
  {
   "cell_type": "code",
   "execution_count": null,
   "metadata": {
    "collapsed": true,
    "deletable": true,
    "editable": true
   },
   "outputs": [],
   "source": []
  },
  {
   "cell_type": "code",
   "execution_count": null,
   "metadata": {
    "collapsed": true,
    "deletable": true,
    "editable": true
   },
   "outputs": [],
   "source": []
  }
 ],
 "metadata": {
  "kernelspec": {
   "display_name": "Python 3",
   "language": "python",
   "name": "python3"
  },
  "language_info": {
   "codemirror_mode": {
    "name": "ipython",
    "version": 3
   },
   "file_extension": ".py",
   "mimetype": "text/x-python",
   "name": "python",
   "nbconvert_exporter": "python",
   "pygments_lexer": "ipython3",
   "version": "3.6.0"
  }
 },
 "nbformat": 4,
 "nbformat_minor": 4
}
